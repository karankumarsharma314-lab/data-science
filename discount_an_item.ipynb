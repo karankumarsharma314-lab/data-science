{
  "nbformat": 4,
  "nbformat_minor": 0,
  "metadata": {
    "colab": {
      "provenance": [],
      "authorship_tag": "ABX9TyMsno/wIexc0WypVviqJ8fo",
      "include_colab_link": true
    },
    "kernelspec": {
      "name": "python3",
      "display_name": "Python 3"
    },
    "language_info": {
      "name": "python"
    }
  },
  "cells": [
    {
      "cell_type": "markdown",
      "metadata": {
        "id": "view-in-github",
        "colab_type": "text"
      },
      "source": [
        "<a href=\"https://colab.research.google.com/github/karankumarsharma314-lab/data-science/blob/main/discount_an_item.ipynb\" target=\"_parent\"><img src=\"https://colab.research.google.com/assets/colab-badge.svg\" alt=\"Open In Colab\"/></a>"
      ]
    },
    {
      "cell_type": "code",
      "execution_count": 13,
      "metadata": {
        "id": "nzaZB89xTCMg"
      },
      "outputs": [],
      "source": [
        "\n"
      ]
    },
    {
      "cell_type": "code",
      "source": [
        "print(\"        KKS MALL\")\n",
        "print(\".............................      \")\n",
        "\n",
        "# User Inputs\n",
        "leptop_price = int\n",
        " (input(\"...enter Laptop price: \"))\n",
        "mobile_price = int(input(\"...enter Mobile price: \"))\n",
        "iphone_price = int(input(\"...enter iPhone price: \"))\n",
        "smart_tv_price = int(input(\"...enter Smart TV price: \"))\n",
        "washing_machine_price = int(input(\"...enter Washing Machine price: \"))\n",
        "refrigerator_price = int(input(\"...enter Refrigerator price: \"))\n",
        "washing_tool_price = int(input(\"...enter Washing Tool price: \"))\n",
        "ps5_price = int(input(\"...enter PS5 price: \"))\n",
        "gaming_pc_price = int(input(\"...enter Gaming PC price: \"))\n",
        "nike_shoe_price = int(input(\"...enter Nike Shoe price: \"))\n",
        "\n",
        "print(\"\")\n",
        "\n",
        "#  Discounts\n",
        "discounts = {\n",
        "    \"Laptop\": 10,\n",
        "    \"Mobile\": 5,\n",
        "    \"iPhone\": 7,\n",
        "    \"Smart TV\": 12,\n",
        "    \"Washing Machine\": 8,\n",
        "    \"Refrigerator\": 6,\n",
        "    \"Washing Tool\": 3,\n",
        "    \"PS5\": 15,\n",
        "    \"Gaming PC\": 20,\n",
        "    \"Nike Shoe\": 25\n",
        "}\n",
        "\n",
        "# Final Prices\n",
        "leptop_final = leptop_price - (leptop_price * discounts[\"Laptop\"] / 100)\n",
        "\n",
        "mobile_final = mobile_price - (mobile_price * discounts[\"Mobile\"] / 100)\n",
        "\n",
        "iphone_final = iphone_price - (iphone_price * discounts[\"iPhone\"] / 100)\n",
        "\n",
        "smart_tv_final = smart_tv_price - (smart_tv_price * discounts[\"Smart TV\"] / 100)\n",
        "\n",
        "washing_machine_final = washing_machine_price - (washing_machine_price * discounts[\"Washing Machine\"] / 100)\n",
        "\n",
        "refrigerator_final = refrigerator_price - (refrigerator_price * discounts[\"Refrigerator\"] / 100)\n",
        "\n",
        "washing_tool_final = washing_tool_price - (washing_tool_price * discounts[\"Washing Tool\"] / 100)\n",
        "\n",
        "ps5_final = ps5_price - (ps5_price * discounts[\"PS5\"] / 100)\n",
        "\n",
        "gaming_pc_final = gaming_pc_price - (gaming_pc_price * discounts[\"Gaming PC\"] / 100)\n",
        "\n",
        "nike_shoe_final = nike_shoe_price - (nike_shoe_price * discounts[\"Nike Shoe\"] / 100)\n",
        "\n",
        "# Total Bill\n",
        "total_bill = (leptop_final + mobile_final + iphone_final + smart_tv_final +\n",
        "              washing_machine_final + refrigerator_final + washing_tool_final +\n",
        "              ps5_final + gaming_pc_final + nike_shoe_final)\n",
        "\n",
        "print(\".............................\")\n",
        "print(\"Final Bill (After Discount):\")\n",
        "print(f\"Laptop (10% OFF)           : ₹{leptop_final}\")\n",
        "print(f\"Mobile (5% OFF)            : ₹{mobile_final}\")\n",
        "print(f\"iPhone (7% OFF)            : ₹{iphone_final}\")\n",
        "print(f\"Smart TV (12% OFF)         : ₹{smart_tv_final}\")\n",
        "print(f\"Washing Machine (8% OFF)   : ₹{washing_machine_final}\")\n",
        "print(f\"Refrigerator (6% OFF)      : ₹{refrigerator_final}\")\n",
        "print(f\"Washing Tool (3% OFF)      : ₹{washing_tool_final}\")\n",
        "print(f\"PS5 (15% OFF)              : ₹{ps5_final}\")\n",
        "print(f\"Gaming PC (20% OFF)        : ₹{gaming_pc_final}\")\n",
        "print(f\"Nike Shoe (25% OFF)        : ₹{nike_shoe_final}\")\n",
        "print(\".............................\")\n",
        "print(\"TOTAL BILL = ₹\", total_bill)"
      ],
      "metadata": {
        "colab": {
          "base_uri": "https://localhost:8080/"
        },
        "id": "lBKhw3csj7hg",
        "outputId": "5b0d00f4-5346-42ca-bf3c-426bffcbca08"
      },
      "execution_count": 15,
      "outputs": [
        {
          "output_type": "stream",
          "name": "stdout",
          "text": [
            "        KKS MALL\n",
            ".............................      \n",
            "...enter Laptop price: 455555\n",
            "...enter Mobile price: 0\n",
            "...enter iPhone price: 76532\n",
            "...enter Smart TV price: 65666\n",
            "...enter Washing Machine price: 7999\n",
            "...enter Refrigerator price: 24000\n",
            "...enter Washing Tool price: 65555\n",
            "...enter PS5 price: 50000\n",
            "...enter Gaming PC price: 200000\n",
            "...enter Nike Shoe price: 70000\n",
            "\n",
            ".............................\n",
            "Final Bill (After Discount):\n",
            "Laptop (10% OFF)           : ₹409999.5\n",
            "Mobile (5% OFF)            : ₹0.0\n",
            "iPhone (7% OFF)            : ₹71174.76\n",
            "Smart TV (12% OFF)         : ₹57786.08\n",
            "Washing Machine (8% OFF)   : ₹7359.08\n",
            "Refrigerator (6% OFF)      : ₹22560.0\n",
            "Washing Tool (3% OFF)      : ₹63588.35\n",
            "PS5 (15% OFF)              : ₹42500.0\n",
            "Gaming PC (20% OFF)        : ₹160000.0\n",
            "Nike Shoe (25% OFF)        : ₹52500.0\n",
            ".............................\n",
            "TOTAL BILL = ₹ 887467.7699999999\n"
          ]
        }
      ]
    }
  ]
}
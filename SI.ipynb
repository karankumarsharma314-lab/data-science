{
  "nbformat": 4,
  "nbformat_minor": 0,
  "metadata": {
    "colab": {
      "provenance": [],
      "authorship_tag": "ABX9TyOFFvbotbAIVuZbIYFQ1siy",
      "include_colab_link": true
    },
    "kernelspec": {
      "name": "python3",
      "display_name": "Python 3"
    },
    "language_info": {
      "name": "python"
    }
  },
  "cells": [
    {
      "cell_type": "markdown",
      "metadata": {
        "id": "view-in-github",
        "colab_type": "text"
      },
      "source": [
        "<a href=\"https://colab.research.google.com/github/karankumarsharma314-lab/data-science/blob/main/SI.ipynb\" target=\"_parent\"><img src=\"https://colab.research.google.com/assets/colab-badge.svg\" alt=\"Open In Colab\"/></a>"
      ]
    },
    {
      "cell_type": "code",
      "execution_count": 6,
      "metadata": {
        "colab": {
          "base_uri": "https://localhost:8080/"
        },
        "id": "byxTYjnpA8kt",
        "outputId": "d35554ac-774e-4e54-a684-7f27b6edeb62"
      },
      "outputs": [
        {
          "output_type": "stream",
          "name": "stdout",
          "text": [
            "enter the principal 34\n",
            "enter the rate 34\n",
            "enter the time 34\n",
            "enter the month 3\n",
            "enter the days 4\n",
            "the simple interest is  154.13333333333333\n",
            "the total amount is  188.13333333333333\n"
          ]
        }
      ],
      "source": [
        "principal = int(input(\"enter the principal \"))\n",
        "rate = int(input(\"enter the rate \"))\n",
        "time = int(input(\"enter the time \"))\n",
        "month = int(input(\"enter the month \"))\n",
        "days = int(input(\"enter the days \"))\n",
        "si = (principal*rate*time)/100\n",
        "si = (principal*rate*month)/100\n",
        "si = (principal*rate*days)/30\n",
        "print(\"the simple interest is \",si)\n",
        "total_amount = si+principal\n",
        "print(\"the total amount is \",total_amount)"
      ]
    }
  ]
}
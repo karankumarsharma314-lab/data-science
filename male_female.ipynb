{
  "nbformat": 4,
  "nbformat_minor": 0,
  "metadata": {
    "colab": {
      "provenance": [],
      "authorship_tag": "ABX9TyMi1tSjeMaZzUFYRH6ENeOm",
      "include_colab_link": true
    },
    "kernelspec": {
      "name": "python3",
      "display_name": "Python 3"
    },
    "language_info": {
      "name": "python"
    }
  },
  "cells": [
    {
      "cell_type": "markdown",
      "metadata": {
        "id": "view-in-github",
        "colab_type": "text"
      },
      "source": [
        "<a href=\"https://colab.research.google.com/github/karankumarsharma314-lab/data-science/blob/main/male_female.ipynb\" target=\"_parent\"><img src=\"https://colab.research.google.com/assets/colab-badge.svg\" alt=\"Open In Colab\"/></a>"
      ]
    },
    {
      "cell_type": "code",
      "execution_count": 14,
      "metadata": {
        "colab": {
          "base_uri": "https://localhost:8080/"
        },
        "id": "Yfpp8u4pA6TM",
        "outputId": "7e697e06-ce2c-4d6f-f757-3cc21a6e82e0"
      },
      "outputs": [
        {
          "output_type": "stream",
          "name": "stdout",
          "text": [
            "enter gender male\n",
            "\n",
            " stay in hotel a \n"
          ]
        }
      ],
      "source": [
        "gender = input(\"enter gender \")\n",
        "if(gender==\"male\"):\n",
        "  print( \"\\n stay in hotel a \")\n",
        "elif(gender==\"female\"):\n",
        "  print(\"\\n\n",
        "  stay in hotel b \")\n",
        "else:\n",
        "  print(\"Enter valid gender\")"
      ]
    }
  ]
}
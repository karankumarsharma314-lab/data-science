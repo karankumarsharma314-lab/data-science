{
  "nbformat": 4,
  "nbformat_minor": 0,
  "metadata": {
    "colab": {
      "provenance": [],
      "authorship_tag": "ABX9TyPXYFxmlN4glCZM5+Qdndvi",
      "include_colab_link": true
    },
    "kernelspec": {
      "name": "python3",
      "display_name": "Python 3"
    },
    "language_info": {
      "name": "python"
    }
  },
  "cells": [
    {
      "cell_type": "markdown",
      "metadata": {
        "id": "view-in-github",
        "colab_type": "text"
      },
      "source": [
        "<a href=\"https://colab.research.google.com/github/karankumarsharma314-lab/data-science/blob/main/Untitled0.ipynb\" target=\"_parent\"><img src=\"https://colab.research.google.com/assets/colab-badge.svg\" alt=\"Open In Colab\"/></a>"
      ]
    },
    {
      "cell_type": "code",
      "execution_count": 20,
      "metadata": {
        "colab": {
          "base_uri": "https://localhost:8080/"
        },
        "id": "xQCOoHpT6N-h",
        "outputId": "851f0571-4313-4af0-8fb2-61959d367109"
      },
      "outputs": [
        {
          "output_type": "stream",
          "name": "stdout",
          "text": [
            "          Food Menu \n",
            "  \n",
            "            Food \n",
            "CHIKEN FRIED RICE    ₹80\n",
            "SPICY CHICKEN        ₹100\n",
            "CHICKEN CURY         ₹130\n",
            " \n",
            "           SNACK\n",
            "\n",
            "FRIED FRIES          ₹60\n",
            "BEEF BURGER          ₹75\n",
            "CHICKEN NUGGETS      ₹100\n",
            "POTATO WEDGES        ₹90\n",
            "\n",
            "           DRINK\n",
            "\n",
            "SUMMER SOUR          ₹50\n",
            "MINERAL WATER        ₹90\n",
            "FRRSH SODA           ₹100\n",
            "TROPICAL SWEET       ₹120\n",
            "JASMINE TEA          ₹80\n"
          ]
        }
      ],
      "source": [
        "print(\"          Food Menu \")\n",
        "print(\"  \")\n",
        "print(\"            Food \")\n",
        "print(\"CHIKEN FRIED RICE    ₹80\")\n",
        "print(\"SPICY CHICKEN        ₹100\")\n",
        "print(\"CHICKEN CURY         ₹130\")\n",
        "print(\" \")\n",
        "print(\"           SNACK\")\n",
        "print(\"\")\n",
        "print(\"FRIED FRIES          ₹60\")\n",
        "print(\"BEEF BURGER          ₹75\")\n",
        "print(\"CHICKEN NUGGETS      ₹100\")\n",
        "print(\"POTATO WEDGES        ₹90\")\n",
        "print(\"\")\n",
        "print(\"           DRINK\")\n",
        "print(\"\")\n",
        "print(\"SUMMER SOUR          ₹50\")\n",
        "print(\"MINERAL WATER        ₹90\")\n",
        "print(\"FRRSH SODA           ₹100\")\n",
        "print(\"TROPICAL SWEET       ₹120\")\n",
        "print(\"JASMINE TEA          ₹80\")"
      ]
    }
  ]
}
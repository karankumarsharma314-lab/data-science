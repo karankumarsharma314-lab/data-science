{
  "nbformat": 4,
  "nbformat_minor": 0,
  "metadata": {
    "colab": {
      "provenance": [],
      "authorship_tag": "ABX9TyPT5Fc4NhU5BPT/A/+tCC2h",
      "include_colab_link": true
    },
    "kernelspec": {
      "name": "python3",
      "display_name": "Python 3"
    },
    "language_info": {
      "name": "python"
    }
  },
  "cells": [
    {
      "cell_type": "markdown",
      "metadata": {
        "id": "view-in-github",
        "colab_type": "text"
      },
      "source": [
        "<a href=\"https://colab.research.google.com/github/karankumarsharma314-lab/data-science/blob/main/Movie_name.ipynb\" target=\"_parent\"><img src=\"https://colab.research.google.com/assets/colab-badge.svg\" alt=\"Open In Colab\"/></a>"
      ]
    },
    {
      "cell_type": "code",
      "execution_count": 39,
      "metadata": {
        "colab": {
          "base_uri": "https://localhost:8080/"
        },
        "id": "uG8at02bgmtD",
        "outputId": "24ee9bcc-cb9f-4371-f589-e296500b3ada"
      },
      "outputs": [
        {
          "output_type": "stream",
          "name": "stdout",
          "text": [
            "             WAR 2\n",
            " \n",
            "Film Directed     Ayan Mukerji\n",
            "Written by         Shridhar Raghavan\n",
            "The Film Star      Ritik Roshan & N. T. Rama Rao Jr. And Kaira Advani\n",
            " Released On        14 August 2025\n",
            "\n",
            "             IT MOVIE\n",
            "\n",
            "Film Directed       Andres\n",
            " Releasd Date       8 september 2018\n",
            "\n",
            "             Saiyaara\n",
            "\n",
            " Directed            Mohit Suri\n",
            " Released Date       18 july 2025\n",
            "\n"
          ]
        }
      ],
      "source": [
        "print(\"             WAR 2\")\n",
        "print(\" \")\n",
        "a = \"Film Directed     Ayan Mukerji\"\n",
        "print(a)\n",
        "b = \"Written by         Shridhar Raghavan\"\n",
        "print(b)\n",
        "c= \"The Film Star      Ritik Roshan & N. T. Rama Rao Jr. And Kaira Advani\"\n",
        "print(c)\n",
        "d=\" Released On        14 August 2025\"\n",
        "print(d)\n",
        "print(\"\")\n",
        "print(\"             IT MOVIE\")\n",
        "e=\"Film Directed       Andres\"\n",
        "print(\"\")\n",
        "\n",
        "print(e)\n",
        "f=\" Releasd Date       8 september 2018\"\n",
        "print(f)\n",
        "print(\"\")\n",
        "g=\"             Saiyaara\"\n",
        "print(g)\n",
        "h=\" Directed            Mohit Suri\"\n",
        "print(\"\")\n",
        "print(h)\n",
        "i=\" Released Date       18 july 2025\"\n",
        "print(i)\n",
        "print(\"\")\n",
        "\n"
      ]
    },
    {
      "cell_type": "code",
      "source": [],
      "metadata": {
        "id": "LSmRuLCOxiC1"
      },
      "execution_count": null,
      "outputs": []
    }
  ]
}
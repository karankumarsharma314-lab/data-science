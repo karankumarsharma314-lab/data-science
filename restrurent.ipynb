{
  "nbformat": 4,
  "nbformat_minor": 0,
  "metadata": {
    "colab": {
      "provenance": [],
      "authorship_tag": "ABX9TyMmYWvKZ1eqs8ZOAgTtnK63",
      "include_colab_link": true
    },
    "kernelspec": {
      "name": "python3",
      "display_name": "Python 3"
    },
    "language_info": {
      "name": "python"
    }
  },
  "cells": [
    {
      "cell_type": "markdown",
      "metadata": {
        "id": "view-in-github",
        "colab_type": "text"
      },
      "source": [
        "<a href=\"https://colab.research.google.com/github/karankumarsharma314-lab/data-science/blob/main/restrurent.ipynb\" target=\"_parent\"><img src=\"https://colab.research.google.com/assets/colab-badge.svg\" alt=\"Open In Colab\"/></a>"
      ]
    },
    {
      "cell_type": "code",
      "execution_count": 35,
      "metadata": {
        "colab": {
          "base_uri": "https://localhost:8080/"
        },
        "id": "CeQ8DZVE2DEU",
        "outputId": "08c0774a-7cc9-45bc-98e3-3b0a0bf515ed"
      },
      "outputs": [
        {
          "output_type": "stream",
          "name": "stdout",
          "text": [
            "enter your pizza price 76\n",
            "\n",
            "enter your burger price 45\n",
            "\n",
            "enter yout cold drink price 56\n",
            "\n",
            "enter your pasta price 56\n",
            "\n",
            "\n",
            " pizza price 76\n",
            "\n",
            " burger price  45\n",
            "\n",
            " cold drink price  56\n",
            "\n",
            " pasta price 56 total is  233\n",
            "\n"
          ]
        }
      ],
      "source": [
        "first_number = int(input( \"enter your pizza price \"))\n",
        "print(\"\")\n",
        "second_number = int(input(\"enter your burger price \"))\n",
        "print(\"\")\n",
        "third_number =int(input(\"enter yout cold drink price \"))\n",
        "print(\"\")\n",
        "fourth_number = int(input(\"enter your pasta price \"))\n",
        "print(\"\")\n",
        "total = first_number + second_number + third_number + fourth_number\n",
        "print(\"\")\n",
        "print(f\" pizza price {first_number}\",)\n",
        "print(\"\")\n",
        "print(f\" burger price  {second_number}\",)\n",
        "print(\"\")\n",
        "print(f\" cold drink price  {third_number}\")\n",
        "print(\"\")\n",
        "print(f\" pasta price {fourth_number} total is \",total)\n",
        "print(\"\")\n",
        "\n",
        "\n"
      ]
    },
    {
      "cell_type": "code",
      "source": [],
      "metadata": {
        "id": "WZbbu6G028mo"
      },
      "execution_count": null,
      "outputs": []
    }
  ]
}
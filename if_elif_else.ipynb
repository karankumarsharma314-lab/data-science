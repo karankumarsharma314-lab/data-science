{
  "nbformat": 4,
  "nbformat_minor": 0,
  "metadata": {
    "colab": {
      "provenance": [],
      "authorship_tag": "ABX9TyM71SxeIjM4XtOyGUppl+gF",
      "include_colab_link": true
    },
    "kernelspec": {
      "name": "python3",
      "display_name": "Python 3"
    },
    "language_info": {
      "name": "python"
    }
  },
  "cells": [
    {
      "cell_type": "markdown",
      "metadata": {
        "id": "view-in-github",
        "colab_type": "text"
      },
      "source": [
        "<a href=\"https://colab.research.google.com/github/karankumarsharma314-lab/data-science/blob/main/if_elif_else.ipynb\" target=\"_parent\"><img src=\"https://colab.research.google.com/assets/colab-badge.svg\" alt=\"Open In Colab\"/></a>"
      ]
    },
    {
      "cell_type": "code",
      "execution_count": 30,
      "metadata": {
        "colab": {
          "base_uri": "https://localhost:8080/"
        },
        "id": "wwpL1l2Qm6en",
        "outputId": "19ead6d8-dd45-4057-ff6b-c9c19d6b3ada"
      },
      "outputs": [
        {
          "output_type": "stream",
          "name": "stdout",
          "text": [
            "\n",
            "---WELCOME TO TAJ HOTEL---\n",
            "enter the gender male\n",
            "enter the age   27\n",
            " \n",
            "GOES TO HOTEL A IN BULDING 1 \n"
          ]
        }
      ],
      "source": [
        "# HOTEL A , HOTEL B\n",
        "print (\"\\n---WELCOME TO TAJ HOTEL---\")\n",
        "gender = input(\"enter the gender \")\n",
        "age = int(input(\"enter the age   \"))\n",
        "if (gender==\"male\" and age>30):\n",
        " print(\" \\nGOES TO HOTEL A IN BULDING 2 \")\n",
        "elif gender==\"male\" and age<30:\n",
        "  print(\" \\nGOES TO HOTEL A IN BULDING 1 \")\n",
        "elif gender==\"female\" and age>30:\n",
        "   print(\" \\nGOES TO HOTEL B IN BULDING 2 \")\n",
        "elif gender==\"female\" and age<30:\n",
        "    print(\" \\nGOES TO HOTEL B IN BULDING 1 \")\n",
        "else:\n",
        "  print(\" \\nPLEASE CHECK THE GENDER SPELING\")\n",
        "\n"
      ]
    },
    {
      "cell_type": "code",
      "source": [],
      "metadata": {
        "id": "gYT2v0tI0jj-"
      },
      "execution_count": null,
      "outputs": []
    }
  ]
}